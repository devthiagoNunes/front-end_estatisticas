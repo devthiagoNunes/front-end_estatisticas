{
 "cells": [
  {
   "cell_type": "code",
   "execution_count": 8,
   "metadata": {},
   "outputs": [],
   "source": [
    "import pandas as pd\n",
    "import config.cnae_structure as cnae_structure\n",
    "import config.column_names as column_names\n",
    "import config.sectors as sectors"
   ]
  },
  {
   "cell_type": "code",
   "execution_count": 9,
   "metadata": {},
   "outputs": [],
   "source": [
    "def load_database(file_path):\n",
    "    \"\"\"\n",
    "    ETL process for the data.\n",
    "    \"\"\"\n",
    "    df = pd.read_csv(file_path,encoding='latin1',sep=';',dtype = str)\n",
    "    return df"
   ]
  },
  {
   "cell_type": "code",
   "execution_count": 10,
   "metadata": {},
   "outputs": [],
   "source": [
    "def etl_database(df):\n",
    "    df.rename(columns=column_names.column_names(), inplace=True) # mudança de nomes\n",
    "    df['setor'] = df['secao_atividade'].replace(sectors.sectors()) # mudança de setores\n",
    "    df['data_inicio_atividades'] = pd.to_datetime(df['data_inicio_atividades'],format='%d/%m/%Y',errors='coerce') # mudança de tipo de dados\n",
    "    df['data_termino_atividades'] = pd.to_datetime(df['data_termino_atividades'],format='%d/%m/%Y',errors='coerce')\n",
    "    df['data_extincao_empresa'] = pd.to_datetime(df['data_extincao_empresa'],format='%d/%m/%Y',errors='coerce')\n",
    "    df['secao_atividade'] =  df['secao_atividade'].replace(cnae_structure.cnae_structure())\n",
    "    df['qtd_empresa'] = 1\n",
    "    return df\n"
   ]
  },
  {
   "cell_type": "code",
   "execution_count": 4,
   "metadata": {},
   "outputs": [],
   "source": [
    "df = load_database('../database/Relatório SIARCO 03-11-2021.csv')"
   ]
  },
  {
   "cell_type": "code",
   "execution_count": 11,
   "metadata": {},
   "outputs": [],
   "source": [
    "df = etl_database(df)"
   ]
  },
  {
   "cell_type": "code",
   "execution_count": 15,
   "metadata": {},
   "outputs": [],
   "source": [
    "df.to_csv('../database/relatorio_tratado.csv', index=False, sep=';')"
   ]
  }
 ],
 "metadata": {
  "interpreter": {
   "hash": "61058fd3133fb50430b513281515b47c34a29ddffcfa3bfabdcc16634a44d809"
  },
  "kernelspec": {
   "display_name": "Python 3 (ipykernel)",
   "language": "python",
   "name": "python3"
  },
  "language_info": {
   "codemirror_mode": {
    "name": "ipython",
    "version": 3
   },
   "file_extension": ".py",
   "mimetype": "text/x-python",
   "name": "python",
   "nbconvert_exporter": "python",
   "pygments_lexer": "ipython3",
   "version": "3.7.9"
  }
 },
 "nbformat": 4,
 "nbformat_minor": 2
}
